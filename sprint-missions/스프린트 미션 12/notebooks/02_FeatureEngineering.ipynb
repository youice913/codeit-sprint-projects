{
 "cells": [
  {
   "cell_type": "markdown",
   "id": "aaa6fcde",
   "metadata": {},
   "source": [
    "# ⚙️ 02. 피처 엔지니어링"
   ]
  },
  {
   "cell_type": "markdown",
   "id": "b4352229",
   "metadata": {},
   "source": []
  },
  {
   "cell_type": "markdown",
   "id": "d3969df0",
   "metadata": {},
   "source": [
    "## 1. 목표\n"
   ]
  },
  {
   "cell_type": "markdown",
   "id": "764f48cd",
   "metadata": {},
   "source": []
  },
  {
   "cell_type": "markdown",
   "id": "783a0a7b",
   "metadata": {},
   "source": [
    "## 2. 파생 변수 생성"
   ]
  },
  {
   "cell_type": "markdown",
   "id": "5c309d01",
   "metadata": {},
   "source": []
  },
  {
   "cell_type": "markdown",
   "id": "9c26c043",
   "metadata": {},
   "source": [
    "## 3. 최종 학습용 데이터 구성"
   ]
  },
  {
   "cell_type": "markdown",
   "id": "6110d0fe",
   "metadata": {},
   "source": []
  },
  {
   "cell_type": "markdown",
   "id": "6e303e37",
   "metadata": {},
   "source": []
  }
 ],
 "metadata": {
  "language_info": {
   "name": "python"
  }
 },
 "nbformat": 4,
 "nbformat_minor": 5
}
